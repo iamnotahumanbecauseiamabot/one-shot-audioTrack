{
 "cells": [
  {
   "cell_type": "code",
   "execution_count": 2,
   "metadata": {
    "colab": {
     "base_uri": "https://localhost:8080/",
     "height": 108,
     "resources": {
      "http://localhost:8080/nbextensions/google.colab/files.js": {
       "data": "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",
       "headers": [
        [
         "content-type",
         "application/javascript"
        ]
       ],
       "ok": true,
       "status": 200,
       "status_text": ""
      }
     }
    },
    "colab_type": "code",
    "id": "jiZbNWpg-iZX",
    "outputId": "341afdd9-e53a-4e44-c882-3731c7d65e6b"
   },
   "outputs": [
    {
     "data": {
      "text/html": [
       "\n",
       "     <input type=\"file\" id=\"files-1f122cee-6ece-4366-88e4-10fcdc874ad6\" name=\"files[]\" multiple disabled />\n",
       "     <output id=\"result-1f122cee-6ece-4366-88e4-10fcdc874ad6\">\n",
       "      Upload widget is only available when the cell has been executed in the\n",
       "      current browser session. Please rerun this cell to enable.\n",
       "      </output>\n",
       "      <script src=\"/nbextensions/google.colab/files.js\"></script> "
      ],
      "text/plain": [
       "<IPython.core.display.HTML object>"
      ]
     },
     "metadata": {
      "tags": []
     },
     "output_type": "display_data"
    },
    {
     "name": "stdout",
     "output_type": "stream",
     "text": [
      "Saving speaker1.mp3 to speaker1.mp3\n",
      "Saving speaker2.mp3 to speaker2.mp3\n"
     ]
    }
   ],
   "source": [
    "from google.colab import files\n",
    "uploaded = files.upload()\n"
   ]
  },
  {
   "cell_type": "code",
   "execution_count": 3,
   "metadata": {
    "colab": {
     "base_uri": "https://localhost:8080/",
     "height": 105
    },
    "colab_type": "code",
    "id": "-Yh25c-w-yZO",
    "outputId": "1b02db62-2de4-4fa0-aaf1-8cdf470e65f6"
   },
   "outputs": [
    {
     "name": "stdout",
     "output_type": "stream",
     "text": [
      "Collecting pydub\n",
      "  Downloading https://files.pythonhosted.org/packages/79/db/eaf620b73a1eec3c8c6f8f5b0b236a50f9da88ad57802154b7ba7664d0b8/pydub-0.23.1-py2.py3-none-any.whl\n",
      "Installing collected packages: pydub\n",
      "Successfully installed pydub-0.23.1\n"
     ]
    }
   ],
   "source": [
    "!pip install pydub"
   ]
  },
  {
   "cell_type": "code",
   "execution_count": 0,
   "metadata": {
    "colab": {},
    "colab_type": "code",
    "id": "pboGkUhm-fqU"
   },
   "outputs": [],
   "source": [
    "import subprocess\n",
    "from pydub import AudioSegment\n",
    "from wave import open as open_wave\n",
    "import numpy as np\n",
    "import pandas as pd\n",
    "import scipy.sparse as sparse\n",
    "import librosa\n",
    "import glob\n",
    "import math\n",
    "import random"
   ]
  },
  {
   "cell_type": "code",
   "execution_count": 0,
   "metadata": {
    "colab": {},
    "colab_type": "code",
    "id": "RjDvKordAsvZ"
   },
   "outputs": [],
   "source": [
    "!mkdir wavspeaker"
   ]
  },
  {
   "cell_type": "code",
   "execution_count": 15,
   "metadata": {
    "colab": {
     "base_uri": "https://localhost:8080/",
     "height": 34
    },
    "colab_type": "code",
    "id": "UX76CF9i-fqd",
    "outputId": "14fc64c5-a438-4282-cca7-8b947f82852d"
   },
   "outputs": [
    {
     "data": {
      "text/plain": [
       "0"
      ]
     },
     "execution_count": 15,
     "metadata": {
      "tags": []
     },
     "output_type": "execute_result"
    }
   ],
   "source": [
    "for i in range(0,2):\n",
    "subprocess.call(['ffmpeg', '-i', './speaker{}.mp3'.format(i+1),\n",
    "                   './wavspeaker/speaker{}.wav'.format(i+1)])"
   ]
  },
  {
   "cell_type": "code",
   "execution_count": 0,
   "metadata": {
    "colab": {},
    "colab_type": "code",
    "id": "ZmT6MQlx-fqs"
   },
   "outputs": [],
   "source": [
    "total_length = 300000\n",
    "segment_length = 3000\n",
    "segments = total_length/segment_length\n",
    "segments = int(segments)"
   ]
  },
  {
   "cell_type": "code",
   "execution_count": 0,
   "metadata": {
    "colab": {},
    "colab_type": "code",
    "id": "4N4U8aBH-fqv"
   },
   "outputs": [],
   "source": [
    "for i in range(0,2):\n",
    "    t1 = 0\n",
    "    newAudio = AudioSegment.from_wav('./wavspeaker/speaker{}.wav'.format(i+1))\n",
    "    for j in range(0,segments): \n",
    "        newAudio1 = newAudio[t1:(t1+segment_length)]\n",
    "        newAudio1.export('./dataset/s{}/{}.wav'.format(i, j), format=\"wav\")\n",
    "        t1 = t1 + segment_length"
   ]
  },
  {
   "cell_type": "code",
   "execution_count": 0,
   "metadata": {
    "colab": {},
    "colab_type": "code",
    "id": "RROdLgjO-fqy"
   },
   "outputs": [],
   "source": [
    "def data_make(file_path):\n",
    "    dataset = glob.glob(file_path)\n",
    "    data1 = []\n",
    "    for i in range(0,segments):\n",
    "        y, sr = librosa.load(dataset[i], sr=1200)\n",
    "        y=np.reshape(y, (-1, int(math.sqrt(y.size))))\n",
    "        data1.append(y)\n",
    "    return data1"
   ]
  },
  {
   "cell_type": "code",
   "execution_count": null,
   "metadata": {},
   "outputs": [],
   "source": [
    "data1 = data_make('./dataset/s1/*.wav')\n",
    "data2 = data_make('./dataset/s2/*.wav')"
   ]
  },
  {
   "cell_type": "code",
   "execution_count": 0,
   "metadata": {
    "colab": {},
    "colab_type": "code",
    "id": "ZYyfc5A0QZkA"
   },
   "outputs": [],
   "source": [
    "data1 = np.array(data1)\n",
    "data2 = np.array(data2)"
   ]
  },
  {
   "cell_type": "code",
   "execution_count": 0,
   "metadata": {
    "colab": {},
    "colab_type": "code",
    "id": "urCP0s38QvDp"
   },
   "outputs": [],
   "source": [
    "data1 = np.expand_dims(data1, axis=3)\n",
    "data2 = np.expand_dims(data2, axis=3)"
   ]
  },
  {
   "cell_type": "code",
   "execution_count": 29,
   "metadata": {
    "colab": {
     "base_uri": "https://localhost:8080/",
     "height": 34
    },
    "colab_type": "code",
    "id": "DmI2b2WuRJ0S",
    "outputId": "d2d41545-2f62-4eaf-c840-1ba6fd20cc7e"
   },
   "outputs": [
    {
     "data": {
      "text/plain": [
       "(100, 60, 60, 1)"
      ]
     },
     "execution_count": 29,
     "metadata": {
      "tags": []
     },
     "output_type": "execute_result"
    }
   ],
   "source": [
    "data1.shape"
   ]
  },
  {
   "cell_type": "code",
   "execution_count": 88,
   "metadata": {
    "colab": {
     "base_uri": "https://localhost:8080/",
     "height": 34
    },
    "colab_type": "code",
    "id": "1YFMry_gRJ4f",
    "outputId": "687da77e-fbd7-474f-f918-1ebb3789fa27"
   },
   "outputs": [
    {
     "data": {
      "text/plain": [
       "(60, 60, 1)"
      ]
     },
     "execution_count": 88,
     "metadata": {
      "tags": []
     },
     "output_type": "execute_result"
    }
   ],
   "source": [
    "data1[0].shape"
   ]
  },
  {
   "cell_type": "code",
   "execution_count": 0,
   "metadata": {
    "colab": {},
    "colab_type": "code",
    "id": "1b51ay-IHYg_"
   },
   "outputs": [],
   "source": [
    "def pair_make(item, datacat1, datacat2):\n",
    "    pair = []\n",
    "    pair1 = []\n",
    "    for i in range(item):\n",
    "        indx = np.random.randint(0, 100)\n",
    "        indx1 = np.random.randint(0, 100)\n",
    "        pair.append(datacat1[indx])\n",
    "        pair1.append(datacat2[indx1])\n",
    "    return pair, pair1"
   ]
  },
  {
   "cell_type": "code",
   "execution_count": null,
   "metadata": {},
   "outputs": [],
   "source": [
    "pair1, pair11 = pair_make(50, data1,data1)\n",
    "pair2,  pair21 = pair_make(50, data2,data2)\n",
    "pair1 = pair1 + pair2\n",
    "pair11 = pair11 + pair21\n",
    "pair0, pair01 = pair_make(100, data1,data2)"
   ]
  },
  {
   "cell_type": "code",
   "execution_count": 0,
   "metadata": {
    "colab": {},
    "colab_type": "code",
    "id": "O1VQWkShHYl3"
   },
   "outputs": [],
   "source": [
    "label1 = [1]*100\n",
    "label0 = [0]*100"
   ]
  },
  {
   "cell_type": "code",
   "execution_count": 153,
   "metadata": {
    "colab": {
     "base_uri": "https://localhost:8080/",
     "height": 850
    },
    "colab_type": "code",
    "collapsed": true,
    "id": "F2ZvTT3Kc3Vf",
    "outputId": "22329879-5a8b-41a4-835f-393c0f0d2d66"
   },
   "outputs": [
    {
     "data": {
      "text/plain": [
       "array([[[-0.01937202],\n",
       "        [-0.00162905],\n",
       "        [ 0.01080856],\n",
       "        ...,\n",
       "        [ 0.00303439],\n",
       "        [-0.00319143],\n",
       "        [-0.00324043]],\n",
       "\n",
       "       [[ 0.00322244],\n",
       "        [ 0.0035693 ],\n",
       "        [-0.00386932],\n",
       "        ...,\n",
       "        [ 0.00024548],\n",
       "        [-0.00043418],\n",
       "        [ 0.00404044]],\n",
       "\n",
       "       [[-0.01081412],\n",
       "        [ 0.00463388],\n",
       "        [ 0.0027859 ],\n",
       "        ...,\n",
       "        [-0.00217403],\n",
       "        [ 0.00284905],\n",
       "        [-0.00108507]],\n",
       "\n",
       "       ...,\n",
       "\n",
       "       [[ 0.00400005],\n",
       "        [ 0.00132786],\n",
       "        [-0.00399965],\n",
       "        ...,\n",
       "        [-0.00117449],\n",
       "        [ 0.00264769],\n",
       "        [ 0.00790705]],\n",
       "\n",
       "       [[-0.0077268 ],\n",
       "        [-0.0046042 ],\n",
       "        [ 0.00602949],\n",
       "        ...,\n",
       "        [ 0.00053113],\n",
       "        [ 0.00030939],\n",
       "        [-0.00062905]],\n",
       "\n",
       "       [[-0.00035683],\n",
       "        [ 0.00060006],\n",
       "        [ 0.00081326],\n",
       "        ...,\n",
       "        [ 0.00392649],\n",
       "        [-0.00768042],\n",
       "        [-0.00362523]]], dtype=float32)"
      ]
     },
     "execution_count": 153,
     "metadata": {
      "tags": []
     },
     "output_type": "execute_result"
    }
   ],
   "source": [
    "lside[100]"
   ]
  },
  {
   "cell_type": "code",
   "execution_count": 0,
   "metadata": {
    "colab": {},
    "colab_type": "code",
    "id": "VInHr5AZTQBD"
   },
   "outputs": [],
   "source": [
    "lside = pair1 + pair0\n",
    "rside = pair11 + pair01\n",
    "labels = label1 + label0"
   ]
  },
  {
   "cell_type": "code",
   "execution_count": 0,
   "metadata": {
    "colab": {},
    "colab_type": "code",
    "id": "64MzvOxEVNAN"
   },
   "outputs": [],
   "source": [
    "labels = np.array(labels)"
   ]
  },
  {
   "cell_type": "code",
   "execution_count": 0,
   "metadata": {
    "colab": {},
    "colab_type": "code",
    "id": "ji38BQIYY85J"
   },
   "outputs": [],
   "source": [
    "X_l = np.array(lside)\n",
    "X_r = np.array(rside)"
   ]
  },
  {
   "cell_type": "code",
   "execution_count": 155,
   "metadata": {
    "colab": {
     "base_uri": "https://localhost:8080/",
     "height": 34
    },
    "colab_type": "code",
    "id": "aYc1oAuga0pB",
    "outputId": "a885f466-02e0-4b27-9a45-25c6b5314568"
   },
   "outputs": [
    {
     "data": {
      "text/plain": [
       "(200, 60, 60, 1)"
      ]
     },
     "execution_count": 155,
     "metadata": {
      "tags": []
     },
     "output_type": "execute_result"
    }
   ],
   "source": [
    "X_r.shape"
   ]
  },
  {
   "cell_type": "code",
   "execution_count": 0,
   "metadata": {
    "colab": {},
    "colab_type": "code",
    "id": "OotLwkai-frl"
   },
   "outputs": [],
   "source": [
    "from keras.models import Sequential\n",
    "import time\n",
    "from keras.optimizers import Adam\n",
    "from keras.layers import Conv2D, ZeroPadding2D, Activation, Input, concatenate, Dropout\n",
    "from keras.models import Model\n",
    "import seaborn as sns\n",
    "from keras.layers.normalization import BatchNormalization\n",
    "from keras.layers.pooling import MaxPooling2D, AveragePooling2D\n",
    "from keras.layers.merge import Concatenate\n",
    "from keras.layers.core import Lambda, Flatten, Dense\n",
    "from keras import backend as K"
   ]
  },
  {
   "cell_type": "code",
   "execution_count": 0,
   "metadata": {
    "colab": {},
    "colab_type": "code",
    "id": "7CyG0WC_-fro"
   },
   "outputs": [],
   "source": [
    "def get_siamese_model(input_shape):\n",
    "    \n",
    "    left_input = Input(input_shape)\n",
    "    right_input = Input(input_shape)\n",
    "    model = Sequential()\n",
    "    BATCH_NORM = 1\n",
    "    model.add(Conv2D(8, (3, 3), padding='same', input_shape=(60,60,1), name='block1_conv1'))\n",
    "    model.add(BatchNormalization()) if BATCH_NORM else None\n",
    "    model.add(Activation('relu'))\n",
    "\n",
    "    model.add(Conv2D(8, (3, 3), padding='same', name='block1_conv2'))\n",
    "    model.add(BatchNormalization()) if BATCH_NORM else None\n",
    "    model.add(Activation('relu'))\n",
    "\n",
    "    model.add(MaxPooling2D((2, 2), strides=(2, 2), name='block1_pool'))\n",
    "\n",
    "    model.add(Conv2D(64, (3, 3), padding='same', name='block2_conv1'))\n",
    "    model.add(BatchNormalization()) if BATCH_NORM else None\n",
    "    model.add(Activation('relu'))\n",
    "\n",
    "    model.add(Conv2D(64, (3, 3), padding='same', name='block2_conv2'))\n",
    "    model.add(BatchNormalization()) if BATCH_NORM else None\n",
    "    model.add(Activation('relu'))\n",
    "    model.add(MaxPooling2D((2, 2), strides=(2, 2), name='block2_pool'))\n",
    "\n",
    "    model.add(Conv2D(128, (3, 3), padding='same', name='block3_conv1'))\n",
    "    model.add(BatchNormalization()) if BATCH_NORM else None\n",
    "    model.add(Activation('relu'))\n",
    "\n",
    "    model.add(Conv2D(128, (3, 3), padding='same', name='block3_conv2'))\n",
    "    model.add(BatchNormalization()) if BATCH_NORM else None\n",
    "    model.add(Activation('relu'))\n",
    "\n",
    "    model.add(Conv2D(128, (3, 3), padding='same', name='block3_conv3'))\n",
    "    model.add(BatchNormalization()) if BATCH_NORM else None\n",
    "    model.add(Activation('relu'))\n",
    "\n",
    "    model.add(Conv2D(128, (3, 3), padding='same', name='block3_conv4'))\n",
    "    model.add(BatchNormalization()) if BATCH_NORM else None\n",
    "    model.add(Activation('relu'))\n",
    "\n",
    "    model.add(MaxPooling2D((2, 2), strides=(2, 2), name='block3_pool'))\n",
    "\n",
    "    model.add(Conv2D(256, (3, 3), padding='same', name='block4_conv1'))\n",
    "    model.add(BatchNormalization()) if BATCH_NORM else None\n",
    "    model.add(Activation('relu'))\n",
    "\n",
    "    model.add(Conv2D(256, (3, 3), padding='same', name='block4_conv2'))\n",
    "    model.add(BatchNormalization()) if BATCH_NORM else None\n",
    "    model.add(Activation('relu'))\n",
    "\n",
    "    model.add(Conv2D(256, (3, 3), padding='same', name='block4_conv3'))\n",
    "    model.add(BatchNormalization()) if BATCH_NORM else None\n",
    "    model.add(Activation('relu'))\n",
    "\n",
    "    model.add(Conv2D(256, (3, 3), padding='same', name='block4_conv4'))\n",
    "    model.add(BatchNormalization()) if BATCH_NORM else None\n",
    "    model.add(Activation('relu'))\n",
    "    model.add(MaxPooling2D((2, 2), strides=(2, 2), name='block4_pool'))\n",
    "\n",
    "    model.add(Conv2D(256, (3, 3), padding='same', name='block5_conv1'))\n",
    "    model.add(BatchNormalization()) if BATCH_NORM else None\n",
    "    model.add(Activation('relu'))\n",
    "\n",
    "    model.add(Conv2D(256, (3, 3), padding='same', name='block5_conv2'))\n",
    "    model.add(BatchNormalization()) if BATCH_NORM else None\n",
    "    model.add(Activation('relu'))\n",
    "\n",
    "    model.add(Conv2D(256, (3, 3), padding='same', name='block5_conv3'))\n",
    "    model.add(BatchNormalization()) if BATCH_NORM else None\n",
    "    model.add(Activation('relu'))\n",
    "\n",
    "    model.add(Conv2D(256, (3, 3), padding='same', name='block5_conv4'))\n",
    "    model.add(BatchNormalization()) if BATCH_NORM else None\n",
    "    model.add(Activation('relu'))\n",
    "\n",
    "    model.add(Flatten())\n",
    "\n",
    "    model.add(Dense(2048))\n",
    "    model.add(BatchNormalization()) if BATCH_NORM else None\n",
    "    model.add(Activation('relu'))\n",
    "    model.add(Dropout(0.5))\n",
    "\n",
    "    model.add(Dense(2048, name='fc2'))\n",
    "    \n",
    "    encoded_l = model(left_input)\n",
    "    encoded_r = model(right_input)\n",
    "    L1_layer = Lambda(lambda tensors:K.abs(tensors[0] - tensors[1]))\n",
    "    L1_distance = L1_layer([encoded_l, encoded_r])\n",
    "    prediction = Dense(1,activation='sigmoid')(L1_distance)\n",
    "    siamese_net = Model(inputs=[left_input,right_input],outputs=prediction)\n",
    "    return siamese_net"
   ]
  },
  {
   "cell_type": "code",
   "execution_count": 134,
   "metadata": {
    "colab": {
     "base_uri": "https://localhost:8080/",
     "height": 340
    },
    "colab_type": "code",
    "id": "7EgTK8z3-frr",
    "outputId": "4a6cf9d9-a691-440e-ff33-d9614f12ab36"
   },
   "outputs": [
    {
     "name": "stdout",
     "output_type": "stream",
     "text": [
      "__________________________________________________________________________________________________\n",
      "Layer (type)                    Output Shape         Param #     Connected to                     \n",
      "==================================================================================================\n",
      "input_3 (InputLayer)            (None, 60, 60, 1)    0                                            \n",
      "__________________________________________________________________________________________________\n",
      "input_4 (InputLayer)            (None, 60, 60, 1)    0                                            \n",
      "__________________________________________________________________________________________________\n",
      "sequential_2 (Sequential)       (None, 2048)         13920600    input_3[0][0]                    \n",
      "                                                                 input_4[0][0]                    \n",
      "__________________________________________________________________________________________________\n",
      "lambda_2 (Lambda)               (None, 2048)         0           sequential_2[1][0]               \n",
      "                                                                 sequential_2[2][0]               \n",
      "__________________________________________________________________________________________________\n",
      "dense_4 (Dense)                 (None, 1)            2049        lambda_2[0][0]                   \n",
      "==================================================================================================\n",
      "Total params: 13,922,649\n",
      "Trainable params: 13,913,145\n",
      "Non-trainable params: 9,504\n",
      "__________________________________________________________________________________________________\n"
     ]
    }
   ],
   "source": [
    "model = get_siamese_model((60,60,1))\n",
    "model.summary()"
   ]
  },
  {
   "cell_type": "code",
   "execution_count": 0,
   "metadata": {
    "colab": {},
    "colab_type": "code",
    "id": "DLjubBvJ-frw"
   },
   "outputs": [],
   "source": [
    "optimizer = Adam(lr = 0.00006)\n",
    "model.compile(loss=\"binary_crossentropy\",optimizer=optimizer, metrics=['accuracy'])"
   ]
  },
  {
   "cell_type": "code",
   "execution_count": 156,
   "metadata": {
    "colab": {
     "base_uri": "https://localhost:8080/",
     "height": 3556
    },
    "colab_type": "code",
    "id": "g0b2arIe-fry",
    "outputId": "a13d2717-a11c-4c5e-8fea-95b7ea0b70a9"
   },
   "outputs": [
    {
     "name": "stdout",
     "output_type": "stream",
     "text": [
      "WARNING:tensorflow:From /usr/local/lib/python3.6/dist-packages/tensorflow/python/ops/math_ops.py:3066: to_int32 (from tensorflow.python.ops.math_ops) is deprecated and will be removed in a future version.\n",
      "Instructions for updating:\n",
      "Use tf.cast instead.\n"
     ]
    },
    {
     "name": "stderr",
     "output_type": "stream",
     "text": [
      "/usr/local/lib/python3.6/dist-packages/ipykernel_launcher.py:1: UserWarning: The `nb_epoch` argument in `fit` has been renamed `epochs`.\n",
      "  \"\"\"Entry point for launching an IPython kernel.\n"
     ]
    },
    {
     "name": "stdout",
     "output_type": "stream",
     "text": [
      "Train on 134 samples, validate on 66 samples\n",
      "Epoch 1/100\n",
      "134/134 [==============================] - 14s 102ms/step - loss: 1.0651 - acc: 0.3433 - val_loss: 0.9334 - val_acc: 0.5758\n",
      "Epoch 2/100\n",
      "134/134 [==============================] - 1s 6ms/step - loss: 0.6650 - acc: 0.6045 - val_loss: 0.8097 - val_acc: 0.5455\n",
      "Epoch 3/100\n",
      "134/134 [==============================] - 1s 6ms/step - loss: 0.5320 - acc: 0.7090 - val_loss: 0.6784 - val_acc: 0.7273\n",
      "Epoch 4/100\n",
      "134/134 [==============================] - 1s 6ms/step - loss: 0.4927 - acc: 0.8284 - val_loss: 0.3292 - val_acc: 0.9091\n",
      "Epoch 5/100\n",
      "134/134 [==============================] - 1s 6ms/step - loss: 0.4394 - acc: 0.7836 - val_loss: 0.0961 - val_acc: 0.9848\n",
      "Epoch 6/100\n",
      "134/134 [==============================] - 1s 6ms/step - loss: 0.3725 - acc: 0.8731 - val_loss: 0.0317 - val_acc: 1.0000\n",
      "Epoch 7/100\n",
      "134/134 [==============================] - 1s 6ms/step - loss: 0.3292 - acc: 0.8955 - val_loss: 0.0347 - val_acc: 1.0000\n",
      "Epoch 8/100\n",
      "134/134 [==============================] - 1s 6ms/step - loss: 0.2400 - acc: 0.9254 - val_loss: 0.0732 - val_acc: 1.0000\n",
      "Epoch 9/100\n",
      "134/134 [==============================] - 1s 6ms/step - loss: 0.1908 - acc: 0.9701 - val_loss: 0.0330 - val_acc: 0.9848\n",
      "Epoch 10/100\n",
      "134/134 [==============================] - 1s 6ms/step - loss: 0.1850 - acc: 0.9701 - val_loss: 0.0400 - val_acc: 0.9848\n",
      "Epoch 11/100\n",
      "134/134 [==============================] - 1s 6ms/step - loss: 0.1568 - acc: 0.9776 - val_loss: 0.0720 - val_acc: 0.9848\n",
      "Epoch 12/100\n",
      "134/134 [==============================] - 1s 6ms/step - loss: 0.1663 - acc: 0.9627 - val_loss: 0.0032 - val_acc: 1.0000\n",
      "Epoch 13/100\n",
      "134/134 [==============================] - 1s 6ms/step - loss: 0.1236 - acc: 0.9851 - val_loss: 0.0792 - val_acc: 0.9545\n",
      "Epoch 14/100\n",
      "134/134 [==============================] - 1s 6ms/step - loss: 0.1449 - acc: 0.9925 - val_loss: 0.0789 - val_acc: 0.9697\n",
      "Epoch 15/100\n",
      "134/134 [==============================] - 1s 6ms/step - loss: 0.0995 - acc: 0.9925 - val_loss: 0.0201 - val_acc: 1.0000\n",
      "Epoch 16/100\n",
      "134/134 [==============================] - 1s 6ms/step - loss: 0.1072 - acc: 0.9925 - val_loss: 0.0059 - val_acc: 1.0000\n",
      "Epoch 17/100\n",
      "134/134 [==============================] - 1s 6ms/step - loss: 0.0993 - acc: 0.9925 - val_loss: 0.0432 - val_acc: 0.9848\n",
      "Epoch 18/100\n",
      "134/134 [==============================] - 1s 6ms/step - loss: 0.0812 - acc: 0.9925 - val_loss: 0.0059 - val_acc: 1.0000\n",
      "Epoch 19/100\n",
      "134/134 [==============================] - 1s 6ms/step - loss: 0.0907 - acc: 0.9925 - val_loss: 3.1635e-04 - val_acc: 1.0000\n",
      "Epoch 20/100\n",
      "134/134 [==============================] - 1s 6ms/step - loss: 0.0720 - acc: 0.9925 - val_loss: 0.0021 - val_acc: 1.0000\n",
      "Epoch 21/100\n",
      "134/134 [==============================] - 1s 6ms/step - loss: 0.0669 - acc: 0.9925 - val_loss: 0.0041 - val_acc: 1.0000\n",
      "Epoch 22/100\n",
      "134/134 [==============================] - 1s 6ms/step - loss: 0.0677 - acc: 0.9925 - val_loss: 0.0017 - val_acc: 1.0000\n",
      "Epoch 23/100\n",
      "134/134 [==============================] - 1s 6ms/step - loss: 0.0556 - acc: 1.0000 - val_loss: 0.0010 - val_acc: 1.0000\n",
      "Epoch 24/100\n",
      "134/134 [==============================] - 1s 7ms/step - loss: 0.0552 - acc: 0.9925 - val_loss: 0.0270 - val_acc: 0.9848\n",
      "Epoch 25/100\n",
      "134/134 [==============================] - 1s 7ms/step - loss: 0.0486 - acc: 0.9851 - val_loss: 0.1053 - val_acc: 0.9394\n",
      "Epoch 26/100\n",
      "134/134 [==============================] - 1s 7ms/step - loss: 0.0884 - acc: 0.9851 - val_loss: 0.0011 - val_acc: 1.0000\n",
      "Epoch 27/100\n",
      "134/134 [==============================] - 1s 7ms/step - loss: 0.0551 - acc: 0.9925 - val_loss: 0.0278 - val_acc: 0.9848\n",
      "Epoch 28/100\n",
      "134/134 [==============================] - 1s 7ms/step - loss: 0.0673 - acc: 0.9925 - val_loss: 0.0192 - val_acc: 1.0000\n",
      "Epoch 29/100\n",
      "134/134 [==============================] - 1s 7ms/step - loss: 0.0529 - acc: 0.9925 - val_loss: 2.0679e-04 - val_acc: 1.0000\n",
      "Epoch 30/100\n",
      "134/134 [==============================] - 1s 6ms/step - loss: 0.0314 - acc: 1.0000 - val_loss: 0.0013 - val_acc: 1.0000\n",
      "Epoch 31/100\n",
      "134/134 [==============================] - 1s 6ms/step - loss: 0.0648 - acc: 0.9851 - val_loss: 0.0264 - val_acc: 1.0000\n",
      "Epoch 32/100\n",
      "134/134 [==============================] - 1s 6ms/step - loss: 0.0261 - acc: 1.0000 - val_loss: 3.6102e-04 - val_acc: 1.0000\n",
      "Epoch 33/100\n",
      "134/134 [==============================] - 1s 6ms/step - loss: 0.0243 - acc: 1.0000 - val_loss: 7.2555e-04 - val_acc: 1.0000\n",
      "Epoch 34/100\n",
      "134/134 [==============================] - 1s 6ms/step - loss: 0.0363 - acc: 1.0000 - val_loss: 0.0544 - val_acc: 1.0000\n",
      "Epoch 35/100\n",
      "134/134 [==============================] - 1s 6ms/step - loss: 0.0359 - acc: 1.0000 - val_loss: 3.1179e-04 - val_acc: 1.0000\n",
      "Epoch 36/100\n",
      "134/134 [==============================] - 1s 6ms/step - loss: 0.0227 - acc: 1.0000 - val_loss: 0.1219 - val_acc: 0.9242\n",
      "Epoch 37/100\n",
      "134/134 [==============================] - 1s 6ms/step - loss: 0.0195 - acc: 1.0000 - val_loss: 0.0011 - val_acc: 1.0000\n",
      "Epoch 38/100\n",
      "134/134 [==============================] - 1s 6ms/step - loss: 0.0358 - acc: 1.0000 - val_loss: 3.3062e-04 - val_acc: 1.0000\n",
      "Epoch 39/100\n",
      "134/134 [==============================] - 1s 6ms/step - loss: 0.0293 - acc: 1.0000 - val_loss: 1.3913e-04 - val_acc: 1.0000\n",
      "Epoch 40/100\n",
      "134/134 [==============================] - 1s 6ms/step - loss: 0.0197 - acc: 1.0000 - val_loss: 0.0881 - val_acc: 0.9848\n",
      "Epoch 41/100\n",
      "134/134 [==============================] - 1s 6ms/step - loss: 0.0502 - acc: 0.9851 - val_loss: 2.3392e-04 - val_acc: 1.0000\n",
      "Epoch 42/100\n",
      "134/134 [==============================] - 1s 6ms/step - loss: 0.0177 - acc: 0.9925 - val_loss: 0.0300 - val_acc: 1.0000\n",
      "Epoch 43/100\n",
      "134/134 [==============================] - 1s 6ms/step - loss: 0.0714 - acc: 0.9851 - val_loss: 0.0021 - val_acc: 1.0000\n",
      "Epoch 44/100\n",
      "134/134 [==============================] - 1s 6ms/step - loss: 0.0264 - acc: 1.0000 - val_loss: 6.6336e-04 - val_acc: 1.0000\n",
      "Epoch 45/100\n",
      "134/134 [==============================] - 1s 6ms/step - loss: 0.0268 - acc: 1.0000 - val_loss: 1.1227e-05 - val_acc: 1.0000\n",
      "Epoch 46/100\n",
      "134/134 [==============================] - 1s 6ms/step - loss: 0.0333 - acc: 1.0000 - val_loss: 4.4484e-07 - val_acc: 1.0000\n",
      "Epoch 47/100\n",
      "134/134 [==============================] - 1s 6ms/step - loss: 0.0823 - acc: 0.9776 - val_loss: 2.4412e-05 - val_acc: 1.0000\n",
      "Epoch 48/100\n",
      "134/134 [==============================] - 1s 6ms/step - loss: 0.0398 - acc: 0.9925 - val_loss: 2.0323e-05 - val_acc: 1.0000\n",
      "Epoch 49/100\n",
      "134/134 [==============================] - 1s 6ms/step - loss: 0.0512 - acc: 0.9925 - val_loss: 6.7175e-06 - val_acc: 1.0000\n",
      "Epoch 50/100\n",
      "134/134 [==============================] - 1s 6ms/step - loss: 0.1443 - acc: 0.9701 - val_loss: 1.5031e-06 - val_acc: 1.0000\n",
      "Epoch 51/100\n",
      "134/134 [==============================] - 1s 6ms/step - loss: 0.0499 - acc: 0.9925 - val_loss: 1.0421e-05 - val_acc: 1.0000\n",
      "Epoch 52/100\n",
      "134/134 [==============================] - 1s 6ms/step - loss: 0.0529 - acc: 1.0000 - val_loss: 4.8881e-05 - val_acc: 1.0000\n",
      "Epoch 53/100\n",
      "134/134 [==============================] - 1s 6ms/step - loss: 0.0650 - acc: 0.9851 - val_loss: 2.0111e-05 - val_acc: 1.0000\n",
      "Epoch 54/100\n",
      "134/134 [==============================] - 1s 6ms/step - loss: 0.0669 - acc: 0.9851 - val_loss: 7.5293e-05 - val_acc: 1.0000\n",
      "Epoch 55/100\n",
      "134/134 [==============================] - 1s 6ms/step - loss: 0.0259 - acc: 1.0000 - val_loss: 4.8852e-06 - val_acc: 1.0000\n",
      "Epoch 56/100\n",
      "134/134 [==============================] - 1s 6ms/step - loss: 0.0263 - acc: 1.0000 - val_loss: 9.5951e-06 - val_acc: 1.0000\n",
      "Epoch 57/100\n",
      "134/134 [==============================] - 1s 6ms/step - loss: 0.0238 - acc: 1.0000 - val_loss: 2.5607e-04 - val_acc: 1.0000\n",
      "Epoch 58/100\n",
      "134/134 [==============================] - 1s 6ms/step - loss: 0.0193 - acc: 1.0000 - val_loss: 1.6112e-05 - val_acc: 1.0000\n",
      "Epoch 59/100\n",
      "134/134 [==============================] - 1s 6ms/step - loss: 0.0147 - acc: 1.0000 - val_loss: 1.9574e-04 - val_acc: 1.0000\n",
      "Epoch 60/100\n",
      "134/134 [==============================] - 1s 6ms/step - loss: 0.0132 - acc: 1.0000 - val_loss: 9.7196e-04 - val_acc: 1.0000\n",
      "Epoch 61/100\n",
      "134/134 [==============================] - 1s 7ms/step - loss: 0.0181 - acc: 1.0000 - val_loss: 1.2970e-04 - val_acc: 1.0000\n",
      "Epoch 62/100\n",
      "134/134 [==============================] - 1s 6ms/step - loss: 0.0448 - acc: 0.9851 - val_loss: 4.3050e-04 - val_acc: 1.0000\n",
      "Epoch 63/100\n",
      "134/134 [==============================] - 1s 7ms/step - loss: 0.0106 - acc: 1.0000 - val_loss: 8.5009e-06 - val_acc: 1.0000\n",
      "Epoch 64/100\n",
      "134/134 [==============================] - 1s 6ms/step - loss: 0.0120 - acc: 1.0000 - val_loss: 2.6425e-04 - val_acc: 1.0000\n",
      "Epoch 65/100\n",
      "134/134 [==============================] - 1s 6ms/step - loss: 0.0207 - acc: 0.9925 - val_loss: 0.0018 - val_acc: 1.0000\n",
      "Epoch 66/100\n",
      "134/134 [==============================] - 1s 6ms/step - loss: 0.0094 - acc: 1.0000 - val_loss: 2.6752e-04 - val_acc: 1.0000\n",
      "Epoch 67/100\n",
      "134/134 [==============================] - 1s 6ms/step - loss: 0.0091 - acc: 1.0000 - val_loss: 1.4098e-05 - val_acc: 1.0000\n",
      "Epoch 68/100\n",
      "134/134 [==============================] - 1s 6ms/step - loss: 0.0438 - acc: 0.9851 - val_loss: 6.7165e-05 - val_acc: 1.0000\n",
      "Epoch 69/100\n",
      "134/134 [==============================] - 1s 6ms/step - loss: 0.0110 - acc: 1.0000 - val_loss: 5.9698e-07 - val_acc: 1.0000\n",
      "Epoch 70/100\n",
      "134/134 [==============================] - 1s 6ms/step - loss: 0.0071 - acc: 1.0000 - val_loss: 1.8816e-05 - val_acc: 1.0000\n",
      "Epoch 71/100\n",
      "134/134 [==============================] - 1s 6ms/step - loss: 0.0870 - acc: 0.9776 - val_loss: 3.4589e-06 - val_acc: 1.0000\n",
      "Epoch 72/100\n",
      "134/134 [==============================] - 1s 6ms/step - loss: 0.0115 - acc: 1.0000 - val_loss: 3.2765e-07 - val_acc: 1.0000\n",
      "Epoch 73/100\n",
      "134/134 [==============================] - 1s 6ms/step - loss: 0.0147 - acc: 1.0000 - val_loss: 1.1232e-07 - val_acc: 1.0000\n",
      "Epoch 74/100\n",
      "134/134 [==============================] - 1s 6ms/step - loss: 0.0279 - acc: 1.0000 - val_loss: 9.5416e-07 - val_acc: 1.0000\n",
      "Epoch 75/100\n",
      "134/134 [==============================] - 1s 6ms/step - loss: 0.0143 - acc: 1.0000 - val_loss: 1.1571e-05 - val_acc: 1.0000\n",
      "Epoch 76/100\n",
      "134/134 [==============================] - 1s 6ms/step - loss: 0.0146 - acc: 1.0000 - val_loss: 2.3709e-06 - val_acc: 1.0000\n",
      "Epoch 77/100\n",
      "134/134 [==============================] - 1s 6ms/step - loss: 0.0259 - acc: 0.9925 - val_loss: 1.4311e-05 - val_acc: 1.0000\n",
      "Epoch 78/100\n",
      "134/134 [==============================] - 1s 6ms/step - loss: 0.0354 - acc: 0.9851 - val_loss: 7.7372e-07 - val_acc: 1.0000\n",
      "Epoch 79/100\n",
      "134/134 [==============================] - 1s 6ms/step - loss: 0.0229 - acc: 0.9925 - val_loss: 1.0826e-07 - val_acc: 1.0000\n",
      "Epoch 80/100\n",
      "134/134 [==============================] - 1s 6ms/step - loss: 0.0389 - acc: 0.9776 - val_loss: 1.2164e-07 - val_acc: 1.0000\n",
      "Epoch 81/100\n",
      "134/134 [==============================] - 1s 6ms/step - loss: 0.0267 - acc: 0.9925 - val_loss: 1.2148e-07 - val_acc: 1.0000\n",
      "Epoch 82/100\n",
      "134/134 [==============================] - 1s 6ms/step - loss: 0.0305 - acc: 0.9925 - val_loss: 1.4804e-05 - val_acc: 1.0000\n",
      "Epoch 83/100\n",
      "134/134 [==============================] - 1s 6ms/step - loss: 0.0201 - acc: 1.0000 - val_loss: 4.6546e-05 - val_acc: 1.0000\n",
      "Epoch 84/100\n",
      "134/134 [==============================] - 1s 6ms/step - loss: 0.0137 - acc: 1.0000 - val_loss: 2.3286e-05 - val_acc: 1.0000\n",
      "Epoch 85/100\n",
      "134/134 [==============================] - 1s 6ms/step - loss: 0.0213 - acc: 0.9851 - val_loss: 8.2934e-05 - val_acc: 1.0000\n",
      "Epoch 86/100\n",
      "134/134 [==============================] - 1s 6ms/step - loss: 0.0065 - acc: 1.0000 - val_loss: 1.4374e-07 - val_acc: 1.0000\n",
      "Epoch 87/100\n",
      "134/134 [==============================] - 1s 6ms/step - loss: 0.1472 - acc: 0.9776 - val_loss: 2.1796e-05 - val_acc: 1.0000\n",
      "Epoch 88/100\n",
      "134/134 [==============================] - 1s 6ms/step - loss: 0.0252 - acc: 1.0000 - val_loss: 4.8588e-04 - val_acc: 1.0000\n",
      "Epoch 89/100\n",
      "134/134 [==============================] - 1s 6ms/step - loss: 0.0253 - acc: 1.0000 - val_loss: 4.6566e-04 - val_acc: 1.0000\n",
      "Epoch 90/100\n",
      "134/134 [==============================] - 1s 6ms/step - loss: 0.0261 - acc: 1.0000 - val_loss: 9.0562e-05 - val_acc: 1.0000\n",
      "Epoch 91/100\n",
      "134/134 [==============================] - 1s 6ms/step - loss: 0.0335 - acc: 1.0000 - val_loss: 8.3634e-05 - val_acc: 1.0000\n",
      "Epoch 92/100\n",
      "134/134 [==============================] - 1s 6ms/step - loss: 0.0088 - acc: 1.0000 - val_loss: 7.1125e-06 - val_acc: 1.0000\n",
      "Epoch 93/100\n",
      "134/134 [==============================] - 1s 6ms/step - loss: 0.0121 - acc: 1.0000 - val_loss: 1.2935e-05 - val_acc: 1.0000\n",
      "Epoch 94/100\n",
      "134/134 [==============================] - 1s 7ms/step - loss: 0.0183 - acc: 1.0000 - val_loss: 1.0585e-04 - val_acc: 1.0000\n",
      "Epoch 95/100\n",
      "134/134 [==============================] - 1s 7ms/step - loss: 0.0059 - acc: 1.0000 - val_loss: 5.7097e-05 - val_acc: 1.0000\n",
      "Epoch 96/100\n",
      "134/134 [==============================] - 1s 6ms/step - loss: 0.0067 - acc: 1.0000 - val_loss: 9.1881e-05 - val_acc: 1.0000\n",
      "Epoch 97/100\n",
      "134/134 [==============================] - 1s 6ms/step - loss: 0.0156 - acc: 0.9925 - val_loss: 4.5851e-05 - val_acc: 1.0000\n",
      "Epoch 98/100\n",
      "134/134 [==============================] - 1s 6ms/step - loss: 0.1244 - acc: 0.9701 - val_loss: 3.0220e-05 - val_acc: 1.0000\n",
      "Epoch 99/100\n",
      "134/134 [==============================] - 1s 6ms/step - loss: 0.0088 - acc: 1.0000 - val_loss: 1.7909e-04 - val_acc: 1.0000\n",
      "Epoch 100/100\n",
      "134/134 [==============================] - 1s 7ms/step - loss: 0.0139 - acc: 1.0000 - val_loss: 3.4786e-05 - val_acc: 1.0000\n",
      "<keras.callbacks.History object at 0x7f5665eb9898>\n"
     ]
    }
   ],
   "source": [
    "\n",
    "# Train the discriminator\n",
    "d_loss = model.fit([X_l, X_r],labels,validation_split=0.33,nb_epoch=100,verbose=1,shuffle=True)\n",
    "\n",
    "print( d_loss)"
   ]
  },
  {
   "cell_type": "markdown",
   "metadata": {
    "colab_type": "text",
    "id": "nDX-7pYMDEGH"
   },
   "source": []
  },
  {
   "cell_type": "code",
   "execution_count": 0,
   "metadata": {
    "colab": {},
    "colab_type": "code",
    "id": "ZIeezj5mDEbw"
   },
   "outputs": [],
   "source": [
    "import matplotlib.pyplot as plt"
   ]
  },
  {
   "cell_type": "code",
   "execution_count": 158,
   "metadata": {
    "colab": {
     "base_uri": "https://localhost:8080/",
     "height": 752
    },
    "colab_type": "code",
    "id": "stzybbTL-fr0",
    "outputId": "bfe7dfe3-341b-4729-ca98-c80d6da52794"
   },
   "outputs": [
    {
     "name": "stdout",
     "output_type": "stream",
     "text": [
      "dict_keys(['val_loss', 'val_acc', 'loss', 'acc'])\n"
     ]
    },
    {
     "data": {
      "image/png": "[encoded data removed]",
      "text/plain": [
       "<Figure size 576x396 with 1 Axes>"
      ]
     },
     "metadata": {
      "tags": []
     },
     "output_type": "display_data"
    },
    {
     "data": {
      "image/png": "[encoded data removed]",
      "text/plain": [
       "<Figure size 576x396 with 1 Axes>"
      ]
     },
     "metadata": {
      "tags": []
     },
     "output_type": "display_data"
    }
   ],
   "source": [
    "print(d_loss.history.keys())\n",
    "# summarize history for accuracy\n",
    "#plt.plot(d_loss.history['acc'])\n",
    "plt.plot(d_loss.history['val_acc'])\n",
    "plt.title('model accuracy')\n",
    "plt.ylabel('accuracy')\n",
    "plt.xlabel('epoch')\n",
    "plt.legend(['train', 'test'], loc='upper left')\n",
    "plt.show()\n",
    "# summarize history for loss\n",
    "plt.plot(d_loss.history['loss'])\n",
    "plt.title('model loss')\n",
    "plt.ylabel('loss')\n",
    "plt.xlabel('epoch')\n",
    "plt.legend(['train', 'test'], loc='upper left')\n",
    "plt.show()\n"
   ]
  }
 ],
 "metadata": {
  "accelerator": "GPU",
  "colab": {
   "collapsed_sections": [],
   "name": "Untitled.ipynb",
   "provenance": [],
   "version": "0.3.2"
  },
  "kernelspec": {
   "display_name": "Python 3",
   "language": "python",
   "name": "python3"
  },
  "language_info": {
   "codemirror_mode": {
    "name": "ipython",
    "version": 3
   },
   "file_extension": ".py",
   "mimetype": "text/x-python",
   "name": "python",
   "nbconvert_exporter": "python",
   "pygments_lexer": "ipython3",
   "version": "3.5.5"
  }
 },
 "nbformat": 4,
 "nbformat_minor": 1
}
